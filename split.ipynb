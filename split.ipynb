{
 "cells": [
  {
   "cell_type": "code",
   "execution_count": 6,
   "metadata": {},
   "outputs": [],
   "source": [
    "from glob import glob\n",
    "\n",
    "paths = glob(\"/content/pytorch-faster-rcnn-dental/dental/images/*\")\n",
    "names = [os.path.basename(path).split(\".\")[0] for path in paths]\n",
    "len_ = len(names)\n",
    "train_name = names[:int(len_*0.9)]\n",
    "val_name = names[int(len_*0.9):]"
   ]
  },
  {
   "cell_type": "code",
   "execution_count": 9,
   "metadata": {},
   "outputs": [],
   "source": [
    "with open(\"/content/trainset.txt\", \"w\") as f:\n",
    "    [f.write(x+\"\\n\") for x in train_name]\n",
    "\n",
    "with open(\"/content/valset.txt\", \"w\") as f:\n",
    "    [f.write(x+\"\\n\") for x in val_name]"
   ]
  }
 ],
 "metadata": {
  "kernelspec": {
   "display_name": "Python 3",
   "language": "python",
   "name": "python3"
  },
  "language_info": {
   "codemirror_mode": {
    "name": "ipython",
    "version": 3
   },
   "file_extension": ".py",
   "mimetype": "text/x-python",
   "name": "python",
   "nbconvert_exporter": "python",
   "pygments_lexer": "ipython3",
   "version": "3.7.13"
  },
  "orig_nbformat": 4
 },
 "nbformat": 4,
 "nbformat_minor": 2
}
